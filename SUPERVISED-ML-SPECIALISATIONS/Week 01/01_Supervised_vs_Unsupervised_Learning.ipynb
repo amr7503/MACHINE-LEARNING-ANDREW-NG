{
 "cells": [
  {
   "cell_type": "markdown",
   "id": "bd0b510d-e6e0-46e6-9ad2-4d6549148926",
   "metadata": {},
   "source": [
    "#  Unsupervised Learning part 1\n",
    "\n",
    "- A clustering algorithm which is a type of unsupervised learning algorithm, takes data without labels and tries to automatically group them into clusters.\n",
    "- For example, clustering is used in google news (img: Clusturing in Google News.png), what google news \n",
    "does is every day it goes.And looks at hundreds of thousands of news articles on the internet, and \n",
    "groups related stories together. For example, here is a sample from Google News, where the headline of \n",
    "the top article, is giant panda gives birth to rare twin cubs at Japan's oldest zoo. Notice the words \n",
    "'panda' , 'twin & 'Zoo' appears in all of these articles, so the clustering algorithm is finding \n",
    "articles. All of all the hundreds of thousands of news articles on the internet that day, finding the \n",
    "articles that mention similar words and grouping them into clusters."
   ]
  },
  {
   "cell_type": "markdown",
   "id": "84f3681e-bf2d-49f3-97ee-a7e1f0e6a768",
   "metadata": {},
   "source": [
    "<figure>\n",
    "   <img src=\"./images/Clusturing in Google News.png\"  alt='missing'  width=\"600\" >\n",
    "<figure/>"
   ]
  },
  {
   "cell_type": "markdown",
   "id": "452a3bbc-5172-4208-859f-bf81c5674eed",
   "metadata": {},
   "source": [
    "# Unsupervised Learning part 2\n",
    "\n",
    "-In supervised learning, the data comes with both inputs x and input labels y, in unsupervised \n",
    " learning, the data comes only with inputs x but not output labels y, and the algorithm has to find some \n",
    " structure or some pattern or something interesting in the data. \n",
    "\n",
    "-Two other types of unsupervised learning: (img: Types of Unsupervised Learning.png)\n",
    "-One is called anomaly detection, which is used to detect unusual events. This turns out to be really \n",
    " important for fraud detection in the financial system, where unusual events, unusual transactions could \n",
    " be signs of fraud and for many other applications. \n",
    "-Other one is dimensionality reduction. This lets you take a big data-set and almost magically compress \n",
    " it to a much smaller data-set while losing as little information as possible"
   ]
  },
  {
   "cell_type": "markdown",
   "id": "0d12643c-f0de-4815-adfe-76a56915a2a2",
   "metadata": {},
   "source": [
    "<figure>\n",
    "    <img src=\"./images/Types of Unsupervised Learning.png\" alt=\"missing\" width=\"600\">\n",
    "</figure>"
   ]
  },
  {
   "cell_type": "markdown",
   "id": "a4eb07a1-a2fc-40ef-8fb6-04d10aa32791",
   "metadata": {},
   "source": [
    "## Question"
   ]
  },
  {
   "cell_type": "markdown",
   "id": "446fb79c-a5db-4941-a1ac-a30d02c72f2f",
   "metadata": {},
   "source": [
    "<figure>\n",
    "    <img src=\"./images/Question1.png\" alt=\"missing\" width=\"600\">\n",
    "</figure>"
   ]
  }
 ],
 "metadata": {
  "kernelspec": {
   "display_name": "Python 3 (ipykernel)",
   "language": "python",
   "name": "python3"
  },
  "language_info": {
   "codemirror_mode": {
    "name": "ipython",
    "version": 3
   },
   "file_extension": ".py",
   "mimetype": "text/x-python",
   "name": "python",
   "nbconvert_exporter": "python",
   "pygments_lexer": "ipython3",
   "version": "3.12.7"
  }
 },
 "nbformat": 4,
 "nbformat_minor": 5
}
