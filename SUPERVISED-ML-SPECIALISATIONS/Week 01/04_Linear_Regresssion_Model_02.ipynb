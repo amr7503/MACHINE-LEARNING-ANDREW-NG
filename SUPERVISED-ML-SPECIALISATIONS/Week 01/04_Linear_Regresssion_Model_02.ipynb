{
 "cells": [
  {
   "cell_type": "markdown",
   "id": "eb7e818f-0e8f-4fcf-96de-89284f035c23",
   "metadata": {},
   "source": [
    "# Recall that a training set in supervised learning includes both the input features, such as the size of the house and also the output targets, such as the price of the house. \n"
   ]
  },
  {
   "cell_type": "markdown",
   "id": "48b0f205-0b20-419e-925b-a0ddb3def60a",
   "metadata": {},
   "source": [
    "- The output targets are the right answers to the model we'll learn from. To train the model, you feed the training set, both the input features and the output targets to your learning algorithm. Then your supervised learning algorithm will produce some function. We'll write this function as lowercase f, where f stands for function. Historically, this function used to be called a hypothesis, but I'm just going to call it a function f in this class. The job with f is to take a new input x and output and estimate or a prediction, which I'm going to call y-hat, and it's written like the variable y with this little hat symbol on top. \n",
    "- In machine learning, the convention is that y-hat is the estimate or the prediction for y. The function f is called the model. X is called the input or the input feature, and the output of the model is the prediction, y-hat. The model's prediction is the estimated value of y.\n",
    "-  When the symbol is just the letter y, then that refers to the target, which is the actual true value in the training set. In contrast, y-hat is an estimate. It may or may not be the actual true value."
   ]
  },
  {
   "cell_type": "markdown",
   "id": "1feca8bc-9a1b-4484-b4ed-c53b67114812",
   "metadata": {},
   "source": [
    "<figure>\n",
    "   <img src=\"./images/LinearRegression02.png\"  alt='missing'  width=\"800\" >\n",
    "<figure/>"
   ]
  },
  {
   "cell_type": "markdown",
   "id": "69139826-458c-43a6-8e69-cee4820f63c6",
   "metadata": {},
   "source": [
    "# How to represent the function f? Or in other words, what is the math formula we're going to use to compute f? \n",
    "\n",
    "- For now, let's stick with f being a straight line. You're function can be written as f_w,b(X)=wX+b.\n",
    "- where w and b are numbers, and the values chosen for w and b will determine the prediction y-hat based on the input feature x.\n",
    "- This f_w,b(X) or f(X) means f is a function that takes x as input, and depending on the values of w and b, f will output some value of a prediction y-hat.\n",
    "-   Let's plot the training set on the graph where the input feature x is on the horizontal axis and the output target y is on the vertical axis.\n",
    "-   Remember, the algorithm learns from this data and generates the best-fit line like maybe this one here. This straight line is the linear function f_w,b(X)=wX+b. Or f(X)=wX+b.\n",
    "-   Here's what this function is doing, it's making predictions for the value of y using a streamline function of x.\n",
    "-   You may ask, why are we choosing a linear function, where linear function is just a fancy term for a straight line instead of some non-linear function like a curve or a parabola? Well, sometimes you want to fit more complex non-linear functions as well, like a curve like this. But since this linear function is relatively simple and easy to work with, let's use a line as a foundation that will eventually help you to get to more complex models that are non-linear. This particular model has a name, it's called linear regression. More specifically, this is linear regression with one variable, where the phrase one variable means that there's a single input variable or feature x, namely the size of the house. Another name for a linear model with one input variable is univariate linear regression"
   ]
  },
  {
   "cell_type": "markdown",
   "id": "34f39923-8ae1-4cf6-acb5-5e21cd5cb477",
   "metadata": {},
   "source": [
    "<figure>\n",
    "    <img src=\"./images/Question2.png\" width=\"800\">\n",
    "</figure>"
   ]
  },
  {
   "cell_type": "markdown",
   "id": "ac896378-2876-4b87-981e-229b2015c223",
   "metadata": {},
   "source": [
    "whereas y-hat is predicted value of output"
   ]
  }
 ],
 "metadata": {
  "kernelspec": {
   "display_name": "Python 3 (ipykernel)",
   "language": "python",
   "name": "python3"
  },
  "language_info": {
   "codemirror_mode": {
    "name": "ipython",
    "version": 3
   },
   "file_extension": ".py",
   "mimetype": "text/x-python",
   "name": "python",
   "nbconvert_exporter": "python",
   "pygments_lexer": "ipython3",
   "version": "3.12.7"
  }
 },
 "nbformat": 4,
 "nbformat_minor": 5
}
