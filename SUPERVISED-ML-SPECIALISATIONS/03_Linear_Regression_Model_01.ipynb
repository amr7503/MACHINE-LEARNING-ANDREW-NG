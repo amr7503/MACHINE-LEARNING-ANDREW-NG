{
 "cells": [
  {
   "cell_type": "markdown",
   "id": "52eba638-29ea-4e3e-99f8-2fdd33d32320",
   "metadata": {},
   "source": [
    "Linear Regression model is the first model of this course.That just means fitting a straight line to your data.\n",
    "It's probably the most widely used learning algorithm in the world today.\n",
    "\n",
    "Problem : You want to predict the price of a house based on the size of the house. We're going to use a dataset on house sizes and prices from Portland, a city in the United States. Here we have a graph where the horizontal axis is the size of the house in square feet, and the vertical axis is the price of a house in thousands of dollars. Let's go ahead and plot the data points for various houses in the dataset. Here each data point, each of these little crosses is a house with the size and the price that it most recently was sold for.\n",
    "\n",
    "-> Now, let's say you're a real estate agent in Portland and you're helping a client to sell her house. She is asking you, how much do you think I can get for this house? This dataset might help you estimate the price she could get for it.\n",
    "\n",
    "-> You start by measuring the size of the house, and it turns out that the house is 1250 square feet. How much do you think this house could sell for? One thing you could do this, you can build a linear regression model from this dataset. Your model will fit a straight line to the data, which might look like this.\n",
    "\n",
    "->Based on this straight line fit to the data, you can see that the house is 1250 square feet, it will intersect the best fit line over here, and if you trace that to the vertical axis on the left, you can see the price is maybe around here, say about $220,000. This is an example of what's called a supervised learning model. We call this supervised learning because you are first training a model by giving a data that has right answers because you get the model examples of houses with both the size of the house, as well as the price that the model should predict for each house. Well, here are the prices, that is, the right answers are given for every house in the dataset. This linear regression model is a particular type of supervised learning model. It's called regression model because it predicts numbers as the output like prices in dollars. Any supervised learning model that predicts a number such as 220,000 or 1.5 or negative 33.2 is addressing what's called a regression problem. Linear regression is one example of a regression model. "
   ]
  },
  {
   "cell_type": "markdown",
   "id": "436e4d53-b1b2-4807-9bb3-4b284a6300f4",
   "metadata": {},
   "source": [
    "<figure>\n",
    "   <img src=\"./images/HouseSizesPrices01.png\"  alt='missing'  width=\"500\" >\n",
    "<figure/>"
   ]
  },
  {
   "cell_type": "markdown",
   "id": "17e7a218-5784-4f3a-8871-ddac04c8ea1f",
   "metadata": {},
   "source": [
    "In contrast with the regression model, the other most common type of supervised learning model is called a classification model. Classification model predicts categories or discrete categories, such as predicting if a picture is of a cat, meow or a dog, woof, or if given medical record, it has to predict if a patient has a particular disease. \n",
    "\n",
    "The difference between classification and regression, in classification, there are only a small number of possible outputs. If your model is recognizing cats versus dogs, that's two possible outputs. Or maybe you're trying to recognize any of 10 possible medical conditions in a patient, so there's a discrete, finite set of possible outputs. We call it classification problem, whereas in regression, there are infinitely many possible numbers that the model could output."
   ]
  },
  {
   "cell_type": "markdown",
   "id": "40fa5668-c392-4c46-bf67-2fe3a0cd5cf2",
   "metadata": {},
   "source": [
    "<figure>\n",
    "   <img src=\"./images/HouseSizesPrices02.png\"  alt='missing'  width=\"500\" >\n",
    "<figure/>"
   ]
  },
  {
   "cell_type": "markdown",
   "id": "0c0b763d-0951-468d-8b31-ba4e76ac4701",
   "metadata": {},
   "source": [
    "Here's one other way of looking at the data that would be useful, and that's a data table here on the right. The data comprises a set of inputs. This would be the size of the house, which is this column here. It also has outputs. You're trying to predict the price, which is this column here. Notice that the horizontal and vertical axes correspond to these two columns, the size and the price. If you have, say, 47 rows in this data table, then there are 47 of these little crosses on the plot of the left, each cross corresponding to one row of the table. For example, the first row of the table is a house with size, 2,104 square feet, so that's around here, and this house is sold for $400,000 which is around here."
   ]
  },
  {
   "cell_type": "markdown",
   "id": "84884721-b6a9-4a00-9b9e-78c38fd624e4",
   "metadata": {},
   "source": [
    "<figure>\n",
    "   <img src=\"./images/Terminology.png\"  alt='missing'  width=\"500\" >\n",
    "<figure/>"
   ]
  },
  {
   "cell_type": "markdown",
   "id": "7f531652-0874-4ead-8636-d4f79c6efc77",
   "metadata": {},
   "source": [
    "The dataset that is used to train the model is called a training set."
   ]
  },
  {
   "cell_type": "markdown",
   "id": "a46e973d-a765-4147-aae3-f4aa8a03ceb8",
   "metadata": {},
   "source": [
    "Note that your client's house is not in this dataset because it's not yet sold, so no one knows what the price is. To predict the price of your client's house, you first train your model to learn from the training set and that model can then predict your client's houses price.\n",
    "\n",
    " In Machine Learning, the standard notation to denote the input here is lowercase x, and we call this the input variable, is also called a feature or an input feature. For example, for the first house in your training set, x is the size of the house, so x equals 2,104.\n",
    " \n",
    " The standard notation to denote the output variable which you're trying to predict, which is also sometimes called the target variable, is lowercase y. Here, y is the price of the house, and for the first training example, this is equal to 400, so y equals 400. \n",
    " \n",
    " The dataset has one row for each house and in this training set, there are 47 rows with each row representing a different training example. We're going to use lowercase m to refer it to the total number of training examples, and so here m is equal to 47. To indicate the single training example, we're going to use the notation parentheses x, y. For the first training example, (x, y), this pair of numbers is (2104, 400). Now we have a lot of different training examples. We have 47 of them in fact. To refer to a specific training example, this will correspond to a specific row in this table on the left, I'm going to use the notation x superscript in parenthesis, i, y superscript in parentheses i.\n",
    "\n",
    " "
   ]
  }
 ],
 "metadata": {
  "kernelspec": {
   "display_name": "Python 3 (ipykernel)",
   "language": "python",
   "name": "python3"
  },
  "language_info": {
   "codemirror_mode": {
    "name": "ipython",
    "version": 3
   },
   "file_extension": ".py",
   "mimetype": "text/x-python",
   "name": "python",
   "nbconvert_exporter": "python",
   "pygments_lexer": "ipython3",
   "version": "3.12.7"
  }
 },
 "nbformat": 4,
 "nbformat_minor": 5
}
